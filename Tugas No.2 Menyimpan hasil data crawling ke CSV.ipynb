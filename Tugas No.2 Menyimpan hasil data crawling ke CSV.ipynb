{
 "cells": [
  {
   "cell_type": "markdown",
   "metadata": {},
   "source": [
    "## Berikut sytax untuk mengimpor fungsi dari library pyhton dan API twitter yang akan digunakan"
   ]
  },
  {
   "cell_type": "code",
   "execution_count": 1,
   "metadata": {},
   "outputs": [],
   "source": [
    "import tweepy\n",
    "import csv\n",
    "from tweepy import OAuthHandler, Stream, StreamListener\n",
    "\n",
    "consumer_key=\"eNly7n62NgPBr1cwUUsLDXvWN\"\n",
    "consumer_secret=\"iHPbHMLum74zSFz0NCwERWnnw0ZCfR4bGCMuUIDSE3czlDY9Sq\"\n",
    "access_token=\"702183804-JvE0qIBEvqfv5Al3KGuEVsbhbyhRVhLn4kqJ5KN9\"\n",
    "access_token_secret=\"WoXhuxup1EpbFXS8O3McBABteUvcPvyerOyrNNNjGmD3f\"\n",
    "\n",
    "auth = tweepy.OAuthHandler(consumer_key, consumer_secret)\n",
    "auth.set_access_token(access_token, access_token_secret)\n",
    "api = tweepy.API(auth)"
   ]
  },
  {
   "cell_type": "markdown",
   "metadata": {},
   "source": [
    "### Selanjutnya output crawling data berdasarkan hashtag tertentu akan tersimpan pada file tugas1.csv yang dibatasi pada tanggal 22 Agustus hingga 26 Oktober 2019, dengan bantuan syntax di bawah ini"
   ]
  },
  {
   "cell_type": "code",
   "execution_count": 2,
   "metadata": {},
   "outputs": [],
   "source": [
    "csvFile = open ('tugas1.csv', 'a')\n",
    "csvWriter = csv.writer(csvFile)\n",
    "for tweet in tweepy.Cursor(api.search,q=\"#creepy\", count = 100, lang = \"id\", since = \"2019-08-22\", until = \"2019-10-26\").items():\n",
    "    print (tweet.created_at, tweet.text)\n",
    "    csvWriter.writerow([tweet.created_at, tweet.text.encode('utf-8')])"
   ]
  }
 ],
 "metadata": {
  "kernelspec": {
   "display_name": "Python 3",
   "language": "python",
   "name": "python3"
  },
  "language_info": {
   "codemirror_mode": {
    "name": "ipython",
    "version": 3
   },
   "file_extension": ".py",
   "mimetype": "text/x-python",
   "name": "python",
   "nbconvert_exporter": "python",
   "pygments_lexer": "ipython3",
   "version": "3.6.9"
  }
 },
 "nbformat": 4,
 "nbformat_minor": 2
}
